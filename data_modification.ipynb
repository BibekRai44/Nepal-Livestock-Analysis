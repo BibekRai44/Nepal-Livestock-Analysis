{
 "cells": [
  {
   "cell_type": "code",
   "execution_count": 61,
   "metadata": {},
   "outputs": [],
   "source": [
    "import pandas as pd"
   ]
  },
  {
   "cell_type": "code",
   "execution_count": 62,
   "metadata": {},
   "outputs": [],
   "source": [
    "df=pd.read_csv('/Users/bibekrai/workspace/Nepal_Livestock_Analysis/data/merged_data.csv')"
   ]
  },
  {
   "cell_type": "code",
   "execution_count": 63,
   "metadata": {},
   "outputs": [],
   "source": [
    "df=df[df['Districts']!='Total']"
   ]
  },
  {
   "cell_type": "code",
   "execution_count": 64,
   "metadata": {},
   "outputs": [
    {
     "data": {
      "text/html": [
       "<div>\n",
       "<style scoped>\n",
       "    .dataframe tbody tr th:only-of-type {\n",
       "        vertical-align: middle;\n",
       "    }\n",
       "\n",
       "    .dataframe tbody tr th {\n",
       "        vertical-align: top;\n",
       "    }\n",
       "\n",
       "    .dataframe thead th {\n",
       "        text-align: right;\n",
       "    }\n",
       "</style>\n",
       "<table border=\"1\" class=\"dataframe\">\n",
       "  <thead>\n",
       "    <tr style=\"text-align: right;\">\n",
       "      <th></th>\n",
       "      <th>_id</th>\n",
       "      <th>Districts</th>\n",
       "      <th>VDC/Municipality</th>\n",
       "      <th>Cattle</th>\n",
       "      <th>Buffalo</th>\n",
       "      <th>Yak/ Nak/ Chauri</th>\n",
       "      <th>Sheep</th>\n",
       "      <th>Goat</th>\n",
       "      <th>Pig</th>\n",
       "    </tr>\n",
       "  </thead>\n",
       "  <tbody>\n",
       "    <tr>\n",
       "      <th>0</th>\n",
       "      <td>1</td>\n",
       "      <td>Sankhuwasabha</td>\n",
       "      <td>Ankhibhui</td>\n",
       "      <td>4679</td>\n",
       "      <td>1197</td>\n",
       "      <td>3</td>\n",
       "      <td>69</td>\n",
       "      <td>9081</td>\n",
       "      <td>1557</td>\n",
       "    </tr>\n",
       "    <tr>\n",
       "      <th>1</th>\n",
       "      <td>2</td>\n",
       "      <td>Sankhuwasabha</td>\n",
       "      <td>Bahrabise</td>\n",
       "      <td>1800</td>\n",
       "      <td>241</td>\n",
       "      <td>-</td>\n",
       "      <td>215</td>\n",
       "      <td>2396</td>\n",
       "      <td>328</td>\n",
       "    </tr>\n",
       "    <tr>\n",
       "      <th>2</th>\n",
       "      <td>3</td>\n",
       "      <td>Sankhuwasabha</td>\n",
       "      <td>Bala</td>\n",
       "      <td>1723</td>\n",
       "      <td>172</td>\n",
       "      <td>-</td>\n",
       "      <td>369</td>\n",
       "      <td>1740</td>\n",
       "      <td>754</td>\n",
       "    </tr>\n",
       "    <tr>\n",
       "      <th>3</th>\n",
       "      <td>4</td>\n",
       "      <td>Sankhuwasabha</td>\n",
       "      <td>Bana</td>\n",
       "      <td>3221</td>\n",
       "      <td>706</td>\n",
       "      <td>-</td>\n",
       "      <td>35</td>\n",
       "      <td>5364</td>\n",
       "      <td>967</td>\n",
       "    </tr>\n",
       "    <tr>\n",
       "      <th>4</th>\n",
       "      <td>5</td>\n",
       "      <td>Sankhuwasabha</td>\n",
       "      <td>Baneswor</td>\n",
       "      <td>2476</td>\n",
       "      <td>619</td>\n",
       "      <td>3</td>\n",
       "      <td>-</td>\n",
       "      <td>4922</td>\n",
       "      <td>765</td>\n",
       "    </tr>\n",
       "    <tr>\n",
       "      <th>...</th>\n",
       "      <td>...</td>\n",
       "      <td>...</td>\n",
       "      <td>...</td>\n",
       "      <td>...</td>\n",
       "      <td>...</td>\n",
       "      <td>...</td>\n",
       "      <td>...</td>\n",
       "      <td>...</td>\n",
       "      <td>...</td>\n",
       "    </tr>\n",
       "    <tr>\n",
       "      <th>3218</th>\n",
       "      <td>41</td>\n",
       "      <td>Udayapur</td>\n",
       "      <td>Thoksila</td>\n",
       "      <td>8664</td>\n",
       "      <td>3156</td>\n",
       "      <td>-</td>\n",
       "      <td>366</td>\n",
       "      <td>13386</td>\n",
       "      <td>2359</td>\n",
       "    </tr>\n",
       "    <tr>\n",
       "      <th>3219</th>\n",
       "      <td>42</td>\n",
       "      <td>Udayapur</td>\n",
       "      <td>Tribeni</td>\n",
       "      <td>3218</td>\n",
       "      <td>1476</td>\n",
       "      <td>-</td>\n",
       "      <td>49</td>\n",
       "      <td>7426</td>\n",
       "      <td>421</td>\n",
       "    </tr>\n",
       "    <tr>\n",
       "      <th>3220</th>\n",
       "      <td>43</td>\n",
       "      <td>Udayapur</td>\n",
       "      <td>Triyuga Municipality</td>\n",
       "      <td>15961</td>\n",
       "      <td>4302</td>\n",
       "      <td>-</td>\n",
       "      <td>475</td>\n",
       "      <td>33224</td>\n",
       "      <td>3339</td>\n",
       "    </tr>\n",
       "    <tr>\n",
       "      <th>3221</th>\n",
       "      <td>44</td>\n",
       "      <td>Udayapur</td>\n",
       "      <td>Valayadanda</td>\n",
       "      <td>4952</td>\n",
       "      <td>1052</td>\n",
       "      <td>-</td>\n",
       "      <td>40</td>\n",
       "      <td>13673</td>\n",
       "      <td>596</td>\n",
       "    </tr>\n",
       "    <tr>\n",
       "      <th>3222</th>\n",
       "      <td>45</td>\n",
       "      <td>Udayapur</td>\n",
       "      <td>Mayankhu</td>\n",
       "      <td>1528</td>\n",
       "      <td>599</td>\n",
       "      <td>-</td>\n",
       "      <td>3</td>\n",
       "      <td>2726</td>\n",
       "      <td>197</td>\n",
       "    </tr>\n",
       "  </tbody>\n",
       "</table>\n",
       "<p>3164 rows × 9 columns</p>\n",
       "</div>"
      ],
      "text/plain": [
       "     _id      Districts      VDC/Municipality Cattle Buffalo Yak/ Nak/ Chauri  \\\n",
       "0      1  Sankhuwasabha             Ankhibhui   4679    1197                3   \n",
       "1      2  Sankhuwasabha             Bahrabise   1800     241                -   \n",
       "2      3  Sankhuwasabha                  Bala   1723     172                -   \n",
       "3      4  Sankhuwasabha                  Bana   3221     706                -   \n",
       "4      5  Sankhuwasabha              Baneswor   2476     619                3   \n",
       "...   ..            ...                   ...    ...     ...              ...   \n",
       "3218  41       Udayapur              Thoksila   8664    3156                -   \n",
       "3219  42       Udayapur               Tribeni   3218    1476                -   \n",
       "3220  43       Udayapur  Triyuga Municipality  15961    4302                -   \n",
       "3221  44       Udayapur           Valayadanda   4952    1052                -   \n",
       "3222  45       Udayapur              Mayankhu   1528     599                -   \n",
       "\n",
       "     Sheep   Goat   Pig  \n",
       "0       69   9081  1557  \n",
       "1      215   2396   328  \n",
       "2      369   1740   754  \n",
       "3       35   5364   967  \n",
       "4        -   4922   765  \n",
       "...    ...    ...   ...  \n",
       "3218   366  13386  2359  \n",
       "3219    49   7426   421  \n",
       "3220   475  33224  3339  \n",
       "3221    40  13673   596  \n",
       "3222     3   2726   197  \n",
       "\n",
       "[3164 rows x 9 columns]"
      ]
     },
     "execution_count": 64,
     "metadata": {},
     "output_type": "execute_result"
    }
   ],
   "source": [
    "df"
   ]
  },
  {
   "cell_type": "code",
   "execution_count": 65,
   "metadata": {},
   "outputs": [],
   "source": [
    "df=df[df['Districts']!='Districts']"
   ]
  },
  {
   "cell_type": "code",
   "execution_count": 66,
   "metadata": {},
   "outputs": [
    {
     "name": "stderr",
     "output_type": "stream",
     "text": [
      "/var/folders/l2/fqpyq8qx1xs_0rm0kph9rxl40000gn/T/ipykernel_1577/4124496059.py:1: SettingWithCopyWarning: \n",
      "A value is trying to be set on a copy of a slice from a DataFrame\n",
      "\n",
      "See the caveats in the documentation: https://pandas.pydata.org/pandas-docs/stable/user_guide/indexing.html#returning-a-view-versus-a-copy\n",
      "  df.drop(columns='_id',inplace=True)\n"
     ]
    }
   ],
   "source": [
    "df.drop(columns='_id',inplace=True)"
   ]
  },
  {
   "cell_type": "code",
   "execution_count": 67,
   "metadata": {},
   "outputs": [
    {
     "name": "stderr",
     "output_type": "stream",
     "text": [
      "/var/folders/l2/fqpyq8qx1xs_0rm0kph9rxl40000gn/T/ipykernel_1577/358257951.py:1: SettingWithCopyWarning: \n",
      "A value is trying to be set on a copy of a slice from a DataFrame.\n",
      "Try using .loc[row_indexer,col_indexer] = value instead\n",
      "\n",
      "See the caveats in the documentation: https://pandas.pydata.org/pandas-docs/stable/user_guide/indexing.html#returning-a-view-versus-a-copy\n",
      "  df['Cattle']=df['Cattle'].replace('-','')\n"
     ]
    }
   ],
   "source": [
    "df['Cattle']=df['Cattle'].replace('-','')"
   ]
  },
  {
   "cell_type": "code",
   "execution_count": 68,
   "metadata": {},
   "outputs": [
    {
     "name": "stderr",
     "output_type": "stream",
     "text": [
      "/var/folders/l2/fqpyq8qx1xs_0rm0kph9rxl40000gn/T/ipykernel_1577/2753628860.py:1: SettingWithCopyWarning: \n",
      "A value is trying to be set on a copy of a slice from a DataFrame.\n",
      "Try using .loc[row_indexer,col_indexer] = value instead\n",
      "\n",
      "See the caveats in the documentation: https://pandas.pydata.org/pandas-docs/stable/user_guide/indexing.html#returning-a-view-versus-a-copy\n",
      "  df['Yak/ Nak/ Chauri']=df['Yak/ Nak/ Chauri'].replace('-','')\n"
     ]
    }
   ],
   "source": [
    "df['Yak/ Nak/ Chauri']=df['Yak/ Nak/ Chauri'].replace('-','')"
   ]
  },
  {
   "cell_type": "code",
   "execution_count": 69,
   "metadata": {},
   "outputs": [
    {
     "name": "stderr",
     "output_type": "stream",
     "text": [
      "/var/folders/l2/fqpyq8qx1xs_0rm0kph9rxl40000gn/T/ipykernel_1577/39485160.py:1: SettingWithCopyWarning: \n",
      "A value is trying to be set on a copy of a slice from a DataFrame.\n",
      "Try using .loc[row_indexer,col_indexer] = value instead\n",
      "\n",
      "See the caveats in the documentation: https://pandas.pydata.org/pandas-docs/stable/user_guide/indexing.html#returning-a-view-versus-a-copy\n",
      "  df['Buffalo']=df['Buffalo'].replace('-','')\n"
     ]
    }
   ],
   "source": [
    "df['Buffalo']=df['Buffalo'].replace('-','')"
   ]
  },
  {
   "cell_type": "code",
   "execution_count": 70,
   "metadata": {},
   "outputs": [
    {
     "name": "stderr",
     "output_type": "stream",
     "text": [
      "/var/folders/l2/fqpyq8qx1xs_0rm0kph9rxl40000gn/T/ipykernel_1577/1414105023.py:1: SettingWithCopyWarning: \n",
      "A value is trying to be set on a copy of a slice from a DataFrame.\n",
      "Try using .loc[row_indexer,col_indexer] = value instead\n",
      "\n",
      "See the caveats in the documentation: https://pandas.pydata.org/pandas-docs/stable/user_guide/indexing.html#returning-a-view-versus-a-copy\n",
      "  df['Goat']=df['Goat'].replace('-','')\n"
     ]
    }
   ],
   "source": [
    "df['Goat']=df['Goat'].replace('-','')"
   ]
  },
  {
   "cell_type": "code",
   "execution_count": 71,
   "metadata": {},
   "outputs": [
    {
     "name": "stderr",
     "output_type": "stream",
     "text": [
      "/var/folders/l2/fqpyq8qx1xs_0rm0kph9rxl40000gn/T/ipykernel_1577/1258212062.py:1: SettingWithCopyWarning: \n",
      "A value is trying to be set on a copy of a slice from a DataFrame.\n",
      "Try using .loc[row_indexer,col_indexer] = value instead\n",
      "\n",
      "See the caveats in the documentation: https://pandas.pydata.org/pandas-docs/stable/user_guide/indexing.html#returning-a-view-versus-a-copy\n",
      "  df['Pig']=df['Pig'].replace('-','')\n"
     ]
    }
   ],
   "source": [
    "df['Pig']=df['Pig'].replace('-','')"
   ]
  },
  {
   "cell_type": "code",
   "execution_count": 72,
   "metadata": {},
   "outputs": [
    {
     "name": "stderr",
     "output_type": "stream",
     "text": [
      "/var/folders/l2/fqpyq8qx1xs_0rm0kph9rxl40000gn/T/ipykernel_1577/1646828551.py:1: SettingWithCopyWarning: \n",
      "A value is trying to be set on a copy of a slice from a DataFrame.\n",
      "Try using .loc[row_indexer,col_indexer] = value instead\n",
      "\n",
      "See the caveats in the documentation: https://pandas.pydata.org/pandas-docs/stable/user_guide/indexing.html#returning-a-view-versus-a-copy\n",
      "  df['Sheep']=df['Sheep'].replace('-','')\n"
     ]
    }
   ],
   "source": [
    "df['Sheep']=df['Sheep'].replace('-','')"
   ]
  },
  {
   "cell_type": "code",
   "execution_count": 73,
   "metadata": {},
   "outputs": [
    {
     "data": {
      "text/html": [
       "<div>\n",
       "<style scoped>\n",
       "    .dataframe tbody tr th:only-of-type {\n",
       "        vertical-align: middle;\n",
       "    }\n",
       "\n",
       "    .dataframe tbody tr th {\n",
       "        vertical-align: top;\n",
       "    }\n",
       "\n",
       "    .dataframe thead th {\n",
       "        text-align: right;\n",
       "    }\n",
       "</style>\n",
       "<table border=\"1\" class=\"dataframe\">\n",
       "  <thead>\n",
       "    <tr style=\"text-align: right;\">\n",
       "      <th></th>\n",
       "      <th>Districts</th>\n",
       "      <th>VDC/Municipality</th>\n",
       "      <th>Cattle</th>\n",
       "      <th>Buffalo</th>\n",
       "      <th>Yak/ Nak/ Chauri</th>\n",
       "      <th>Sheep</th>\n",
       "      <th>Goat</th>\n",
       "      <th>Pig</th>\n",
       "    </tr>\n",
       "  </thead>\n",
       "  <tbody>\n",
       "    <tr>\n",
       "      <th>0</th>\n",
       "      <td>Sankhuwasabha</td>\n",
       "      <td>Ankhibhui</td>\n",
       "      <td>4679</td>\n",
       "      <td>1197</td>\n",
       "      <td>3</td>\n",
       "      <td>69</td>\n",
       "      <td>9081</td>\n",
       "      <td>1557</td>\n",
       "    </tr>\n",
       "    <tr>\n",
       "      <th>1</th>\n",
       "      <td>Sankhuwasabha</td>\n",
       "      <td>Bahrabise</td>\n",
       "      <td>1800</td>\n",
       "      <td>241</td>\n",
       "      <td></td>\n",
       "      <td>215</td>\n",
       "      <td>2396</td>\n",
       "      <td>328</td>\n",
       "    </tr>\n",
       "    <tr>\n",
       "      <th>2</th>\n",
       "      <td>Sankhuwasabha</td>\n",
       "      <td>Bala</td>\n",
       "      <td>1723</td>\n",
       "      <td>172</td>\n",
       "      <td></td>\n",
       "      <td>369</td>\n",
       "      <td>1740</td>\n",
       "      <td>754</td>\n",
       "    </tr>\n",
       "    <tr>\n",
       "      <th>3</th>\n",
       "      <td>Sankhuwasabha</td>\n",
       "      <td>Bana</td>\n",
       "      <td>3221</td>\n",
       "      <td>706</td>\n",
       "      <td></td>\n",
       "      <td>35</td>\n",
       "      <td>5364</td>\n",
       "      <td>967</td>\n",
       "    </tr>\n",
       "    <tr>\n",
       "      <th>4</th>\n",
       "      <td>Sankhuwasabha</td>\n",
       "      <td>Baneswor</td>\n",
       "      <td>2476</td>\n",
       "      <td>619</td>\n",
       "      <td>3</td>\n",
       "      <td></td>\n",
       "      <td>4922</td>\n",
       "      <td>765</td>\n",
       "    </tr>\n",
       "    <tr>\n",
       "      <th>...</th>\n",
       "      <td>...</td>\n",
       "      <td>...</td>\n",
       "      <td>...</td>\n",
       "      <td>...</td>\n",
       "      <td>...</td>\n",
       "      <td>...</td>\n",
       "      <td>...</td>\n",
       "      <td>...</td>\n",
       "    </tr>\n",
       "    <tr>\n",
       "      <th>3218</th>\n",
       "      <td>Udayapur</td>\n",
       "      <td>Thoksila</td>\n",
       "      <td>8664</td>\n",
       "      <td>3156</td>\n",
       "      <td></td>\n",
       "      <td>366</td>\n",
       "      <td>13386</td>\n",
       "      <td>2359</td>\n",
       "    </tr>\n",
       "    <tr>\n",
       "      <th>3219</th>\n",
       "      <td>Udayapur</td>\n",
       "      <td>Tribeni</td>\n",
       "      <td>3218</td>\n",
       "      <td>1476</td>\n",
       "      <td></td>\n",
       "      <td>49</td>\n",
       "      <td>7426</td>\n",
       "      <td>421</td>\n",
       "    </tr>\n",
       "    <tr>\n",
       "      <th>3220</th>\n",
       "      <td>Udayapur</td>\n",
       "      <td>Triyuga Municipality</td>\n",
       "      <td>15961</td>\n",
       "      <td>4302</td>\n",
       "      <td></td>\n",
       "      <td>475</td>\n",
       "      <td>33224</td>\n",
       "      <td>3339</td>\n",
       "    </tr>\n",
       "    <tr>\n",
       "      <th>3221</th>\n",
       "      <td>Udayapur</td>\n",
       "      <td>Valayadanda</td>\n",
       "      <td>4952</td>\n",
       "      <td>1052</td>\n",
       "      <td></td>\n",
       "      <td>40</td>\n",
       "      <td>13673</td>\n",
       "      <td>596</td>\n",
       "    </tr>\n",
       "    <tr>\n",
       "      <th>3222</th>\n",
       "      <td>Udayapur</td>\n",
       "      <td>Mayankhu</td>\n",
       "      <td>1528</td>\n",
       "      <td>599</td>\n",
       "      <td></td>\n",
       "      <td>3</td>\n",
       "      <td>2726</td>\n",
       "      <td>197</td>\n",
       "    </tr>\n",
       "  </tbody>\n",
       "</table>\n",
       "<p>3105 rows × 8 columns</p>\n",
       "</div>"
      ],
      "text/plain": [
       "          Districts      VDC/Municipality Cattle Buffalo Yak/ Nak/ Chauri  \\\n",
       "0     Sankhuwasabha             Ankhibhui   4679    1197                3   \n",
       "1     Sankhuwasabha             Bahrabise   1800     241                    \n",
       "2     Sankhuwasabha                  Bala   1723     172                    \n",
       "3     Sankhuwasabha                  Bana   3221     706                    \n",
       "4     Sankhuwasabha              Baneswor   2476     619                3   \n",
       "...             ...                   ...    ...     ...              ...   \n",
       "3218       Udayapur              Thoksila   8664    3156                    \n",
       "3219       Udayapur               Tribeni   3218    1476                    \n",
       "3220       Udayapur  Triyuga Municipality  15961    4302                    \n",
       "3221       Udayapur           Valayadanda   4952    1052                    \n",
       "3222       Udayapur              Mayankhu   1528     599                    \n",
       "\n",
       "     Sheep   Goat   Pig  \n",
       "0       69   9081  1557  \n",
       "1      215   2396   328  \n",
       "2      369   1740   754  \n",
       "3       35   5364   967  \n",
       "4            4922   765  \n",
       "...    ...    ...   ...  \n",
       "3218   366  13386  2359  \n",
       "3219    49   7426   421  \n",
       "3220   475  33224  3339  \n",
       "3221    40  13673   596  \n",
       "3222     3   2726   197  \n",
       "\n",
       "[3105 rows x 8 columns]"
      ]
     },
     "execution_count": 73,
     "metadata": {},
     "output_type": "execute_result"
    }
   ],
   "source": [
    "df"
   ]
  },
  {
   "cell_type": "code",
   "execution_count": 74,
   "metadata": {},
   "outputs": [],
   "source": [
    "df.to_csv('Data.csv',index=True)"
   ]
  },
  {
   "cell_type": "code",
   "execution_count": null,
   "metadata": {},
   "outputs": [],
   "source": []
  }
 ],
 "metadata": {
  "kernelspec": {
   "display_name": "Python 3",
   "language": "python",
   "name": "python3"
  },
  "language_info": {
   "codemirror_mode": {
    "name": "ipython",
    "version": 3
   },
   "file_extension": ".py",
   "mimetype": "text/x-python",
   "name": "python",
   "nbconvert_exporter": "python",
   "pygments_lexer": "ipython3",
   "version": "3.10.6"
  },
  "orig_nbformat": 4
 },
 "nbformat": 4,
 "nbformat_minor": 2
}
