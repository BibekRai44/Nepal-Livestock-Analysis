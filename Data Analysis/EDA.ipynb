{
 "cells": [
  {
   "attachments": {},
   "cell_type": "markdown",
   "metadata": {},
   "source": [
    "# In this notebook, we perform Exploratory Data Analysis where different operation are performed. "
   ]
  },
  {
   "cell_type": "code",
   "execution_count": 138,
   "metadata": {},
   "outputs": [
    {
     "name": "stdout",
     "output_type": "stream",
     "text": [
      "The autoreload extension is already loaded. To reload it, use:\n",
      "  %reload_ext autoreload\n"
     ]
    }
   ],
   "source": [
    "#importing necessary libraries\n",
    "\n",
    "import pandas as pd\n",
    "import numpy as np\n",
    "import warnings\n",
    "warnings.filterwarnings('ignore')\n",
    "from matplotlib import pyplot as plt\n",
    "%matplotlib inline\n",
    "import seaborn as sns\n",
    "%load_ext autoreload\n",
    "%autoreload 2"
   ]
  },
  {
   "cell_type": "code",
   "execution_count": 139,
   "metadata": {},
   "outputs": [],
   "source": [
    "#reading dataset\n",
    "\n",
    "df=pd.read_csv('/Users/bibekrai/workspace/Nepal-Livestock-Analysis/Data.csv')"
   ]
  },
  {
   "cell_type": "code",
   "execution_count": 140,
   "metadata": {},
   "outputs": [],
   "source": [
    "df=df.drop(columns='Unnamed: 0')"
   ]
  },
  {
   "cell_type": "code",
   "execution_count": 141,
   "metadata": {},
   "outputs": [
    {
     "data": {
      "text/html": [
       "<div>\n",
       "<style scoped>\n",
       "    .dataframe tbody tr th:only-of-type {\n",
       "        vertical-align: middle;\n",
       "    }\n",
       "\n",
       "    .dataframe tbody tr th {\n",
       "        vertical-align: top;\n",
       "    }\n",
       "\n",
       "    .dataframe thead th {\n",
       "        text-align: right;\n",
       "    }\n",
       "</style>\n",
       "<table border=\"1\" class=\"dataframe\">\n",
       "  <thead>\n",
       "    <tr style=\"text-align: right;\">\n",
       "      <th></th>\n",
       "      <th>Districts</th>\n",
       "      <th>VDC/Municipality</th>\n",
       "      <th>Cattle</th>\n",
       "      <th>Buffalo</th>\n",
       "      <th>Yak/ Nak/ Chauri</th>\n",
       "      <th>Sheep</th>\n",
       "      <th>Goat</th>\n",
       "      <th>Pig</th>\n",
       "    </tr>\n",
       "  </thead>\n",
       "  <tbody>\n",
       "    <tr>\n",
       "      <th>0</th>\n",
       "      <td>Sankhuwasabha</td>\n",
       "      <td>Ankhibhui</td>\n",
       "      <td>4679.0</td>\n",
       "      <td>1197.0</td>\n",
       "      <td>3.0</td>\n",
       "      <td>69.0</td>\n",
       "      <td>9081.0</td>\n",
       "      <td>1557.0</td>\n",
       "    </tr>\n",
       "    <tr>\n",
       "      <th>1</th>\n",
       "      <td>Sankhuwasabha</td>\n",
       "      <td>Bahrabise</td>\n",
       "      <td>1800.0</td>\n",
       "      <td>241.0</td>\n",
       "      <td>NaN</td>\n",
       "      <td>215.0</td>\n",
       "      <td>2396.0</td>\n",
       "      <td>328.0</td>\n",
       "    </tr>\n",
       "    <tr>\n",
       "      <th>2</th>\n",
       "      <td>Sankhuwasabha</td>\n",
       "      <td>Bala</td>\n",
       "      <td>1723.0</td>\n",
       "      <td>172.0</td>\n",
       "      <td>NaN</td>\n",
       "      <td>369.0</td>\n",
       "      <td>1740.0</td>\n",
       "      <td>754.0</td>\n",
       "    </tr>\n",
       "    <tr>\n",
       "      <th>3</th>\n",
       "      <td>Sankhuwasabha</td>\n",
       "      <td>Bana</td>\n",
       "      <td>3221.0</td>\n",
       "      <td>706.0</td>\n",
       "      <td>NaN</td>\n",
       "      <td>35.0</td>\n",
       "      <td>5364.0</td>\n",
       "      <td>967.0</td>\n",
       "    </tr>\n",
       "    <tr>\n",
       "      <th>4</th>\n",
       "      <td>Sankhuwasabha</td>\n",
       "      <td>Baneswor</td>\n",
       "      <td>2476.0</td>\n",
       "      <td>619.0</td>\n",
       "      <td>3.0</td>\n",
       "      <td>NaN</td>\n",
       "      <td>4922.0</td>\n",
       "      <td>765.0</td>\n",
       "    </tr>\n",
       "    <tr>\n",
       "      <th>...</th>\n",
       "      <td>...</td>\n",
       "      <td>...</td>\n",
       "      <td>...</td>\n",
       "      <td>...</td>\n",
       "      <td>...</td>\n",
       "      <td>...</td>\n",
       "      <td>...</td>\n",
       "      <td>...</td>\n",
       "    </tr>\n",
       "    <tr>\n",
       "      <th>3100</th>\n",
       "      <td>Udayapur</td>\n",
       "      <td>Thoksila</td>\n",
       "      <td>8664.0</td>\n",
       "      <td>3156.0</td>\n",
       "      <td>NaN</td>\n",
       "      <td>366.0</td>\n",
       "      <td>13386.0</td>\n",
       "      <td>2359.0</td>\n",
       "    </tr>\n",
       "    <tr>\n",
       "      <th>3101</th>\n",
       "      <td>Udayapur</td>\n",
       "      <td>Tribeni</td>\n",
       "      <td>3218.0</td>\n",
       "      <td>1476.0</td>\n",
       "      <td>NaN</td>\n",
       "      <td>49.0</td>\n",
       "      <td>7426.0</td>\n",
       "      <td>421.0</td>\n",
       "    </tr>\n",
       "    <tr>\n",
       "      <th>3102</th>\n",
       "      <td>Udayapur</td>\n",
       "      <td>Triyuga Municipality</td>\n",
       "      <td>15961.0</td>\n",
       "      <td>4302.0</td>\n",
       "      <td>NaN</td>\n",
       "      <td>475.0</td>\n",
       "      <td>33224.0</td>\n",
       "      <td>3339.0</td>\n",
       "    </tr>\n",
       "    <tr>\n",
       "      <th>3103</th>\n",
       "      <td>Udayapur</td>\n",
       "      <td>Valayadanda</td>\n",
       "      <td>4952.0</td>\n",
       "      <td>1052.0</td>\n",
       "      <td>NaN</td>\n",
       "      <td>40.0</td>\n",
       "      <td>13673.0</td>\n",
       "      <td>596.0</td>\n",
       "    </tr>\n",
       "    <tr>\n",
       "      <th>3104</th>\n",
       "      <td>Udayapur</td>\n",
       "      <td>Mayankhu</td>\n",
       "      <td>1528.0</td>\n",
       "      <td>599.0</td>\n",
       "      <td>NaN</td>\n",
       "      <td>3.0</td>\n",
       "      <td>2726.0</td>\n",
       "      <td>197.0</td>\n",
       "    </tr>\n",
       "  </tbody>\n",
       "</table>\n",
       "<p>3105 rows × 8 columns</p>\n",
       "</div>"
      ],
      "text/plain": [
       "          Districts      VDC/Municipality   Cattle  Buffalo  Yak/ Nak/ Chauri  \\\n",
       "0     Sankhuwasabha             Ankhibhui   4679.0   1197.0               3.0   \n",
       "1     Sankhuwasabha             Bahrabise   1800.0    241.0               NaN   \n",
       "2     Sankhuwasabha                  Bala   1723.0    172.0               NaN   \n",
       "3     Sankhuwasabha                  Bana   3221.0    706.0               NaN   \n",
       "4     Sankhuwasabha              Baneswor   2476.0    619.0               3.0   \n",
       "...             ...                   ...      ...      ...               ...   \n",
       "3100       Udayapur              Thoksila   8664.0   3156.0               NaN   \n",
       "3101       Udayapur               Tribeni   3218.0   1476.0               NaN   \n",
       "3102       Udayapur  Triyuga Municipality  15961.0   4302.0               NaN   \n",
       "3103       Udayapur           Valayadanda   4952.0   1052.0               NaN   \n",
       "3104       Udayapur              Mayankhu   1528.0    599.0               NaN   \n",
       "\n",
       "      Sheep     Goat     Pig  \n",
       "0      69.0   9081.0  1557.0  \n",
       "1     215.0   2396.0   328.0  \n",
       "2     369.0   1740.0   754.0  \n",
       "3      35.0   5364.0   967.0  \n",
       "4       NaN   4922.0   765.0  \n",
       "...     ...      ...     ...  \n",
       "3100  366.0  13386.0  2359.0  \n",
       "3101   49.0   7426.0   421.0  \n",
       "3102  475.0  33224.0  3339.0  \n",
       "3103   40.0  13673.0   596.0  \n",
       "3104    3.0   2726.0   197.0  \n",
       "\n",
       "[3105 rows x 8 columns]"
      ]
     },
     "execution_count": 141,
     "metadata": {},
     "output_type": "execute_result"
    }
   ],
   "source": [
    "df"
   ]
  },
  {
   "cell_type": "code",
   "execution_count": 142,
   "metadata": {},
   "outputs": [
    {
     "data": {
      "text/plain": [
       "Districts            object\n",
       "VDC/Municipality     object\n",
       "Cattle              float64\n",
       "Buffalo             float64\n",
       "Yak/ Nak/ Chauri    float64\n",
       "Sheep               float64\n",
       "Goat                float64\n",
       "Pig                 float64\n",
       "dtype: object"
      ]
     },
     "execution_count": 142,
     "metadata": {},
     "output_type": "execute_result"
    }
   ],
   "source": [
    "df.dtypes"
   ]
  },
  {
   "cell_type": "code",
   "execution_count": 143,
   "metadata": {},
   "outputs": [
    {
     "data": {
      "text/plain": [
       "Districts              0\n",
       "VDC/Municipality       0\n",
       "Cattle                 1\n",
       "Buffalo               21\n",
       "Yak/ Nak/ Chauri    2625\n",
       "Sheep                788\n",
       "Goat                   3\n",
       "Pig                  300\n",
       "dtype: int64"
      ]
     },
     "execution_count": 143,
     "metadata": {},
     "output_type": "execute_result"
    }
   ],
   "source": [
    "df.isnull().sum()"
   ]
  },
  {
   "cell_type": "code",
   "execution_count": 144,
   "metadata": {},
   "outputs": [],
   "source": [
    "df['Cattle'].fillna(df['Cattle'].median(),inplace=True)"
   ]
  },
  {
   "cell_type": "code",
   "execution_count": 145,
   "metadata": {},
   "outputs": [],
   "source": [
    "df['Buffalo'].fillna(df['Buffalo'].median(),inplace=True)"
   ]
  },
  {
   "cell_type": "code",
   "execution_count": 146,
   "metadata": {},
   "outputs": [],
   "source": [
    "df['Goat'].fillna(df['Goat'].median(),inplace=True)"
   ]
  },
  {
   "cell_type": "code",
   "execution_count": 147,
   "metadata": {},
   "outputs": [],
   "source": [
    "df['Pig'].fillna(df['Pig'].median(),inplace=True)"
   ]
  },
  {
   "cell_type": "code",
   "execution_count": 148,
   "metadata": {},
   "outputs": [],
   "source": [
    "df['Sheep'].fillna(df['Sheep'].median(),inplace=True)"
   ]
  },
  {
   "cell_type": "code",
   "execution_count": 149,
   "metadata": {},
   "outputs": [],
   "source": [
    "df['Yak/ Nak/ Chauri'].fillna(df['Yak/ Nak/ Chauri'].median(),inplace=True)"
   ]
  },
  {
   "cell_type": "code",
   "execution_count": 150,
   "metadata": {},
   "outputs": [],
   "source": [
    "df['Cattle'] = df['Cattle'].apply(lambda x: int(x))"
   ]
  },
  {
   "cell_type": "code",
   "execution_count": 151,
   "metadata": {},
   "outputs": [],
   "source": [
    "df['Buffalo'] = df['Buffalo'].apply(lambda x: int(x))"
   ]
  },
  {
   "cell_type": "code",
   "execution_count": 152,
   "metadata": {},
   "outputs": [],
   "source": [
    "df['Goat']=df['Goat'].apply(lambda x:int(x))"
   ]
  },
  {
   "cell_type": "code",
   "execution_count": 153,
   "metadata": {},
   "outputs": [],
   "source": [
    "df['Pig'] = df['Pig'].apply(lambda x: int(x))"
   ]
  },
  {
   "cell_type": "code",
   "execution_count": 154,
   "metadata": {},
   "outputs": [],
   "source": [
    "df['Sheep'] = df['Sheep'].apply(lambda x: int(x))"
   ]
  },
  {
   "cell_type": "code",
   "execution_count": 155,
   "metadata": {},
   "outputs": [],
   "source": [
    "df['Yak/ Nak/ Chauri'] = df['Yak/ Nak/ Chauri'].apply(lambda x: int(x))"
   ]
  },
  {
   "cell_type": "code",
   "execution_count": 156,
   "metadata": {},
   "outputs": [
    {
     "data": {
      "text/plain": [
       "Districts           object\n",
       "VDC/Municipality    object\n",
       "Cattle               int64\n",
       "Buffalo              int64\n",
       "Yak/ Nak/ Chauri     int64\n",
       "Sheep                int64\n",
       "Goat                 int64\n",
       "Pig                  int64\n",
       "dtype: object"
      ]
     },
     "execution_count": 156,
     "metadata": {},
     "output_type": "execute_result"
    }
   ],
   "source": [
    "df.dtypes"
   ]
  },
  {
   "cell_type": "code",
   "execution_count": 157,
   "metadata": {},
   "outputs": [
    {
     "name": "stdout",
     "output_type": "stream",
     "text": [
      "<class 'pandas.core.frame.DataFrame'>\n",
      "RangeIndex: 3105 entries, 0 to 3104\n",
      "Data columns (total 8 columns):\n",
      " #   Column            Non-Null Count  Dtype \n",
      "---  ------            --------------  ----- \n",
      " 0   Districts         3105 non-null   object\n",
      " 1   VDC/Municipality  3105 non-null   object\n",
      " 2   Cattle            3105 non-null   int64 \n",
      " 3   Buffalo           3105 non-null   int64 \n",
      " 4   Yak/ Nak/ Chauri  3105 non-null   int64 \n",
      " 5   Sheep             3105 non-null   int64 \n",
      " 6   Goat              3105 non-null   int64 \n",
      " 7   Pig               3105 non-null   int64 \n",
      "dtypes: int64(6), object(2)\n",
      "memory usage: 194.2+ KB\n"
     ]
    }
   ],
   "source": [
    "df.info()"
   ]
  },
  {
   "cell_type": "code",
   "execution_count": 158,
   "metadata": {},
   "outputs": [
    {
     "data": {
      "text/html": [
       "<div>\n",
       "<style scoped>\n",
       "    .dataframe tbody tr th:only-of-type {\n",
       "        vertical-align: middle;\n",
       "    }\n",
       "\n",
       "    .dataframe tbody tr th {\n",
       "        vertical-align: top;\n",
       "    }\n",
       "\n",
       "    .dataframe thead th {\n",
       "        text-align: right;\n",
       "    }\n",
       "</style>\n",
       "<table border=\"1\" class=\"dataframe\">\n",
       "  <thead>\n",
       "    <tr style=\"text-align: right;\">\n",
       "      <th></th>\n",
       "      <th>Cattle</th>\n",
       "      <th>Buffalo</th>\n",
       "      <th>Yak/ Nak/ Chauri</th>\n",
       "      <th>Sheep</th>\n",
       "      <th>Goat</th>\n",
       "      <th>Pig</th>\n",
       "    </tr>\n",
       "  </thead>\n",
       "  <tbody>\n",
       "    <tr>\n",
       "      <th>count</th>\n",
       "      <td>3105.000000</td>\n",
       "      <td>3105.000000</td>\n",
       "      <td>3105.000000</td>\n",
       "      <td>3105.000000</td>\n",
       "      <td>3105.000000</td>\n",
       "      <td>3105.000000</td>\n",
       "    </tr>\n",
       "    <tr>\n",
       "      <th>mean</th>\n",
       "      <td>1798.536554</td>\n",
       "      <td>779.011594</td>\n",
       "      <td>16.281481</td>\n",
       "      <td>181.840580</td>\n",
       "      <td>2970.770370</td>\n",
       "      <td>253.409662</td>\n",
       "    </tr>\n",
       "    <tr>\n",
       "      <th>std</th>\n",
       "      <td>1639.427640</td>\n",
       "      <td>658.033740</td>\n",
       "      <td>84.203358</td>\n",
       "      <td>502.040605</td>\n",
       "      <td>2438.827948</td>\n",
       "      <td>460.957030</td>\n",
       "    </tr>\n",
       "    <tr>\n",
       "      <th>min</th>\n",
       "      <td>1.000000</td>\n",
       "      <td>1.000000</td>\n",
       "      <td>1.000000</td>\n",
       "      <td>1.000000</td>\n",
       "      <td>2.000000</td>\n",
       "      <td>1.000000</td>\n",
       "    </tr>\n",
       "    <tr>\n",
       "      <th>25%</th>\n",
       "      <td>785.000000</td>\n",
       "      <td>356.000000</td>\n",
       "      <td>5.000000</td>\n",
       "      <td>16.000000</td>\n",
       "      <td>1380.000000</td>\n",
       "      <td>22.000000</td>\n",
       "    </tr>\n",
       "    <tr>\n",
       "      <th>50%</th>\n",
       "      <td>1386.000000</td>\n",
       "      <td>627.000000</td>\n",
       "      <td>5.000000</td>\n",
       "      <td>41.000000</td>\n",
       "      <td>2311.000000</td>\n",
       "      <td>76.000000</td>\n",
       "    </tr>\n",
       "    <tr>\n",
       "      <th>75%</th>\n",
       "      <td>2329.000000</td>\n",
       "      <td>1020.000000</td>\n",
       "      <td>5.000000</td>\n",
       "      <td>115.000000</td>\n",
       "      <td>3743.000000</td>\n",
       "      <td>302.000000</td>\n",
       "    </tr>\n",
       "    <tr>\n",
       "      <th>max</th>\n",
       "      <td>30032.000000</td>\n",
       "      <td>12781.000000</td>\n",
       "      <td>2064.000000</td>\n",
       "      <td>7917.000000</td>\n",
       "      <td>33224.000000</td>\n",
       "      <td>7430.000000</td>\n",
       "    </tr>\n",
       "  </tbody>\n",
       "</table>\n",
       "</div>"
      ],
      "text/plain": [
       "             Cattle       Buffalo  Yak/ Nak/ Chauri        Sheep  \\\n",
       "count   3105.000000   3105.000000       3105.000000  3105.000000   \n",
       "mean    1798.536554    779.011594         16.281481   181.840580   \n",
       "std     1639.427640    658.033740         84.203358   502.040605   \n",
       "min        1.000000      1.000000          1.000000     1.000000   \n",
       "25%      785.000000    356.000000          5.000000    16.000000   \n",
       "50%     1386.000000    627.000000          5.000000    41.000000   \n",
       "75%     2329.000000   1020.000000          5.000000   115.000000   \n",
       "max    30032.000000  12781.000000       2064.000000  7917.000000   \n",
       "\n",
       "               Goat          Pig  \n",
       "count   3105.000000  3105.000000  \n",
       "mean    2970.770370   253.409662  \n",
       "std     2438.827948   460.957030  \n",
       "min        2.000000     1.000000  \n",
       "25%     1380.000000    22.000000  \n",
       "50%     2311.000000    76.000000  \n",
       "75%     3743.000000   302.000000  \n",
       "max    33224.000000  7430.000000  "
      ]
     },
     "execution_count": 158,
     "metadata": {},
     "output_type": "execute_result"
    }
   ],
   "source": [
    "df.describe()"
   ]
  },
  {
   "cell_type": "code",
   "execution_count": 159,
   "metadata": {},
   "outputs": [
    {
     "data": {
      "text/plain": [
       "(3105, 8)"
      ]
     },
     "execution_count": 159,
     "metadata": {},
     "output_type": "execute_result"
    }
   ],
   "source": [
    "df.shape"
   ]
  },
  {
   "cell_type": "code",
   "execution_count": 167,
   "metadata": {},
   "outputs": [
    {
     "data": {
      "text/plain": [
       "Saptari           115\n",
       "Siraha            108\n",
       "Sarlahi           100\n",
       "Bara               99\n",
       "Rautahat           97\n",
       "Kavrepalanchok     90\n",
       "Sindhupalchok      79\n",
       "Mahottari          77\n",
       "Khotang            76\n",
       "Achham             75\n",
       "Rupandehi          71\n",
       "Morang             66\n",
       "Baitadi            63\n",
       "Bhojpur            63\n",
       "Nuwakot            62\n",
       "Syangja            62\n",
       "Baglung            60\n",
       "Kathmandu          59\n",
       "Dailekh            56\n",
       "Okhaldhunga        56\n",
       "Ramechhap          55\n",
       "Sindhuli           54\n",
       "Dolakha            52\n",
       "Sunsari            52\n",
       "Rolpa              51\n",
       "Doti               51\n",
       "Surkhet            51\n",
       "Jhapa              50\n",
       "Dhading            50\n",
       "Taplejung          50\n",
       "Ilam               49\n",
       "Salyan             47\n",
       "Tanahu             47\n",
       "Bajhang            47\n",
       "Banke              47\n",
       "Udayapur           45\n",
       "Kailali            44\n",
       "Makwanpur          44\n",
       "Rukum              43\n",
       "Lalitpur           42\n",
       "Arghakhanchi       42\n",
       "Panchthar          41\n",
       "Dang               41\n",
       "Darchula           41\n",
       "Dhankuta           36\n",
       "Sankhuwasabha      34\n",
       "Solukhumbu         34\n",
       "Terhathum          32\n",
       "Bardiya            32\n",
       "Jumla              30\n",
       "Jajarkot           30\n",
       "Kalikot            30\n",
       "Humla              27\n",
       "Bajura             27\n",
       "Mugu               24\n",
       "Dolpa              22\n",
       "Dadeldhura         21\n",
       "Kanchanpur         20\n",
       "Bhaktapur          18\n",
       "Rasuwa             18\n",
       "Name: Districts, dtype: int64"
      ]
     },
     "execution_count": 167,
     "metadata": {},
     "output_type": "execute_result"
    }
   ],
   "source": [
    "#VDC/Muncipality count\n",
    "\n",
    "df['Districts'].value_counts()"
   ]
  },
  {
   "cell_type": "code",
   "execution_count": 201,
   "metadata": {},
   "outputs": [],
   "source": [
    "x1=df['Buffalo'].sum()"
   ]
  },
  {
   "cell_type": "code",
   "execution_count": 202,
   "metadata": {},
   "outputs": [],
   "source": [
    "x2=df['Cattle'].sum()"
   ]
  },
  {
   "cell_type": "code",
   "execution_count": 203,
   "metadata": {},
   "outputs": [],
   "source": [
    "x3=df['Goat'].sum()"
   ]
  },
  {
   "cell_type": "code",
   "execution_count": 204,
   "metadata": {},
   "outputs": [],
   "source": [
    "x4=df['Pig'].sum()"
   ]
  },
  {
   "cell_type": "code",
   "execution_count": 205,
   "metadata": {},
   "outputs": [],
   "source": [
    "x5=df['Sheep'].sum()"
   ]
  },
  {
   "cell_type": "code",
   "execution_count": 206,
   "metadata": {},
   "outputs": [],
   "source": [
    "x6=df['Yak/ Nak/ Chauri'].sum()"
   ]
  },
  {
   "cell_type": "code",
   "execution_count": 161,
   "metadata": {},
   "outputs": [],
   "source": [
    "df.to_csv('test_data.csv')"
   ]
  },
  {
   "cell_type": "code",
   "execution_count": null,
   "metadata": {},
   "outputs": [],
   "source": []
  }
 ],
 "metadata": {
  "kernelspec": {
   "display_name": "Python 3",
   "language": "python",
   "name": "python3"
  },
  "language_info": {
   "codemirror_mode": {
    "name": "ipython",
    "version": 3
   },
   "file_extension": ".py",
   "mimetype": "text/x-python",
   "name": "python",
   "nbconvert_exporter": "python",
   "pygments_lexer": "ipython3",
   "version": "3.10.6"
  },
  "orig_nbformat": 4
 },
 "nbformat": 4,
 "nbformat_minor": 2
}
